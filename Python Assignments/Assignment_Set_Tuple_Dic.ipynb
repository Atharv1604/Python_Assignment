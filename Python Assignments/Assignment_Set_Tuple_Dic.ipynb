{
  "nbformat": 4,
  "nbformat_minor": 0,
  "metadata": {
    "colab": {
      "provenance": []
    },
    "kernelspec": {
      "name": "python3",
      "display_name": "Python 3"
    },
    "language_info": {
      "name": "python"
    }
  },
  "cells": [
    {
      "cell_type": "markdown",
      "source": [
        "Set Assignments:\n"
      ],
      "metadata": {
        "id": "mVM9pyI36MV8"
      }
    },
    {
      "cell_type": "markdown",
      "source": [
        "1. Add a list of elements to a given set\n",
        "Given:\n",
        "sampleSet = {\"Yellow\", \"Orange\", \"Black\"}\n",
        "sampleList = [\"Blue\", \"Green\", \"Red\",”Yellow”,”orange”]"
      ],
      "metadata": {
        "id": "xWGJ_nPN6Rtq"
      }
    },
    {
      "cell_type": "code",
      "execution_count": null,
      "metadata": {
        "colab": {
          "base_uri": "https://localhost:8080/"
        },
        "id": "og3uDJLG500m",
        "outputId": "0dd65233-f780-449d-bc7c-b8d796175f31"
      },
      "outputs": [
        {
          "output_type": "stream",
          "name": "stdout",
          "text": [
            "{'Blue', 'Orange', 'Yellow', 'orange', 'Green', 'Black', 'Red'}\n"
          ]
        }
      ],
      "source": [
        "sampleSet = {\"Yellow\", \"Orange\", \"Black\"}\n",
        "sampleList = [\"Blue\", \"Green\", \"Red\",\"Yellow\",\"orange\"]\n",
        "for e in sampleList:\n",
        "  sampleSet.add(e)\n",
        "print(sampleSet)"
      ]
    },
    {
      "cell_type": "markdown",
      "source": [
        "2. display common elements from the given set\n",
        "set1 = {10, 20, 30, 40, 50}\n",
        "set2 = {30, 40, 50, 60, 70}\n"
      ],
      "metadata": {
        "id": "K0P-MCqX7lCW"
      }
    },
    {
      "cell_type": "code",
      "source": [
        "set1={10, 20, 30, 40, 50}\n",
        "set2={30,40,50,60,70}\n",
        "print(set1.intersection(set2))"
      ],
      "metadata": {
        "colab": {
          "base_uri": "https://localhost:8080/"
        },
        "id": "XNR5IK8R7kyI",
        "outputId": "c2c9f62d-4b1d-4d79-e078-1ff757cc4100"
      },
      "execution_count": null,
      "outputs": [
        {
          "output_type": "stream",
          "name": "stdout",
          "text": [
            "{40, 50, 30}\n"
          ]
        }
      ]
    },
    {
      "cell_type": "markdown",
      "source": [
        "3. Generate a new set with all items from both sets by removing numbers which are in both sets.\n",
        "set1 = {10, 20, 30, 40, 50,25}\n",
        "set2 = {30, 40, 50, 60, 70,100}\n",
        "o/p : order is not important\n",
        "{70, 10, 20, 60,25,100}"
      ],
      "metadata": {
        "id": "aJEaqdAC8PHF"
      }
    },
    {
      "cell_type": "code",
      "source": [
        "set1 = {10, 20, 30, 40, 50,25}\n",
        "set2 = {30, 40, 50, 60, 70,100}\n",
        "resultset=set1.difference(set2)\n",
        "l1=set2.difference(set1)\n",
        "for e in l1:\n",
        "  resultset.add(e)\n",
        "print(resultset)"
      ],
      "metadata": {
        "colab": {
          "base_uri": "https://localhost:8080/"
        },
        "id": "sJ2T3Qsn8PQ7",
        "outputId": "ac53a396-31d0-4692-cc4c-05cc00b232a7"
      },
      "execution_count": null,
      "outputs": [
        {
          "output_type": "stream",
          "name": "stdout",
          "text": [
            "{100, 70, 10, 20, 25, 60}\n"
          ]
        }
      ]
    },
    {
      "cell_type": "markdown",
      "source": [
        "4. set of all elements in either A or B, but not both\n",
        "set1 = {10, 20, 30, 40, 50}\n",
        "set2 = {30, 40, 50, 60, 70}\n",
        "Expected output:\n",
        "{20, 70, 10, 60}"
      ],
      "metadata": {
        "id": "3m9uSESR-pX1"
      }
    },
    {
      "cell_type": "code",
      "source": [
        "set1={10, 20, 30, 40, 50}\n",
        "set2 ={30, 40, 50, 60, 70}\n",
        "set1^=set2\n",
        "print(set1)"
      ],
      "metadata": {
        "colab": {
          "base_uri": "https://localhost:8080/"
        },
        "id": "NbF1KIJ4-ppz",
        "outputId": "cb0d0514-ff81-4c6f-989f-3542bac99a23"
      },
      "execution_count": null,
      "outputs": [
        {
          "output_type": "stream",
          "name": "stdout",
          "text": [
            "{20, 70, 10, 60}\n"
          ]
        }
      ]
    },
    {
      "cell_type": "markdown",
      "source": [
        "5. Update set1 by adding items from set2,\n",
        "except common items\n",
        "set1 = {10, 20, 30, 40, 50}\n",
        "set2 = {30, 40, 50, 60, 70}\n",
        "Expected output:\n",
        "{70, 10, 20, 60}"
      ],
      "metadata": {
        "id": "kcMkDUhqAP94"
      }
    },
    {
      "cell_type": "code",
      "source": [
        "set1 = {10, 20, 30, 40, 50}\n",
        "set2 = {30, 40, 50, 60, 70}\n",
        "set1^=set2\n",
        "print(set1)"
      ],
      "metadata": {
        "colab": {
          "base_uri": "https://localhost:8080/"
        },
        "id": "km9UC12iAQMu",
        "outputId": "0bbbb03d-0345-471b-a304-0aee4d0115d4"
      },
      "execution_count": null,
      "outputs": [
        {
          "output_type": "stream",
          "name": "stdout",
          "text": [
            "{20, 70, 10, 60}\n"
          ]
        }
      ]
    },
    {
      "cell_type": "markdown",
      "source": [
        "6. Take a sentence as input from user. Every word is seperated by space. Print all unique words from the sentence.\n"
      ],
      "metadata": {
        "id": "7SoGlFqZA6z0"
      }
    },
    {
      "cell_type": "code",
      "source": [
        "sentence=input(\"Enter a sentence . Word are space separated  : \")\n",
        "word_list=sentence.split()\n",
        "unique_word=set(word_list)\n",
        "print(unique_word)"
      ],
      "metadata": {
        "colab": {
          "base_uri": "https://localhost:8080/"
        },
        "id": "YUnRDaLKA6n9",
        "outputId": "d74583fc-4e87-4040-d411-04d7e66eaa76"
      },
      "execution_count": null,
      "outputs": [
        {
          "output_type": "stream",
          "name": "stdout",
          "text": [
            "Enter a sentence . Word are space separated  : l\n",
            "{'l'}\n"
          ]
        }
      ]
    },
    {
      "cell_type": "code",
      "source": [
        "d1={1:90,2:87,3:89,4:95,5:90}\n",
        "d1.setdefault(5)  #\n",
        "d1.setdefault(5, 28)\n",
        "d1.setdefault(9,50)# if elemenr is not present inside\n",
        "print(d1)"
      ],
      "metadata": {
        "colab": {
          "base_uri": "https://localhost:8080/"
        },
        "id": "N3dXLovcHU3G",
        "outputId": "8a438bb6-3177-4327-b482-24ef4a609433"
      },
      "execution_count": null,
      "outputs": [
        {
          "output_type": "stream",
          "name": "stdout",
          "text": [
            "{1: 90, 2: 87, 3: 89, 4: 95, 5: 90, 9: 50}\n"
          ]
        }
      ]
    },
    {
      "cell_type": "markdown",
      "source": [
        "Tuple Assignments\n"
      ],
      "metadata": {
        "id": "w9SfFCY8K9iR"
      }
    },
    {
      "cell_type": "markdown",
      "source": [
        "1. Reverse the following tuple\n",
        "aTuple = (10, 20, 30, 40, 50,60)\n",
        "Expected output:\n",
        "(60,50, 40, 30, 20, 10)"
      ],
      "metadata": {
        "id": "PUmOjFzJLDnJ"
      }
    },
    {
      "cell_type": "code",
      "source": [
        "T=(10, 20, 30, 40, 50,60)\n",
        "n=T[::-1]\n",
        "print(n)\n",
        "print(tuple(reversed(T)))"
      ],
      "metadata": {
        "colab": {
          "base_uri": "https://localhost:8080/"
        },
        "id": "EjcEyk4jKKi1",
        "outputId": "26665f60-a900-4b87-e061-84bc4b68f150"
      },
      "execution_count": null,
      "outputs": [
        {
          "output_type": "stream",
          "name": "stdout",
          "text": [
            "(60, 50, 40, 30, 20, 10)\n",
            "(60, 50, 40, 30, 20, 10)\n"
          ]
        }
      ]
    },
    {
      "cell_type": "markdown",
      "source": [
        "2. display value 20 from the following tuple\n",
        "aTuple = (\"Orange\", [10, 20, 30], (5, 15, 25))\n",
        "3. Unpack the following tuple into 4 variables\n",
        "aTuple = (10, 20, 30, 40)"
      ],
      "metadata": {
        "id": "ulW3fNIxL-4G"
      }
    },
    {
      "cell_type": "code",
      "source": [
        "aTuple = (\"Orange\", [10, 20, 30], (5, 15, 25))\n",
        "print(aTuple[1][1])\n",
        "bTuple = (10, 20, 30, 40)\n",
        "a,b,c,d=bTuple\n",
        "print(a,b,c,d)"
      ],
      "metadata": {
        "colab": {
          "base_uri": "https://localhost:8080/"
        },
        "id": "5Ebh4VxCHVYm",
        "outputId": "fb497651-2fb1-450d-aace-e0f66dfd6c36"
      },
      "execution_count": null,
      "outputs": [
        {
          "output_type": "stream",
          "name": "stdout",
          "text": [
            "20\n",
            "10 20 30 40\n"
          ]
        }
      ]
    },
    {
      "cell_type": "markdown",
      "source": [
        "4. Swap the following two tuples\n",
        "tuple1 = (11, 22)\n",
        "tuple2 = (99, 88)\n",
        "Expected output:\n",
        "tuple1 = (99, 88)\n",
        "tuple2 = (11, 22)"
      ],
      "metadata": {
        "id": "RXuFeug0Mwzb"
      }
    },
    {
      "cell_type": "code",
      "source": [
        "t1=(11, 22)\n",
        "t2 =(99, 88)\n",
        "t1,t2=t2,t1\n",
        "print(\"t1 : \",t1)\n",
        "print(\"t2 : \",t2)"
      ],
      "metadata": {
        "colab": {
          "base_uri": "https://localhost:8080/"
        },
        "id": "-sa181t9Mvht",
        "outputId": "bed250a5-1560-4796-ffe5-3d596fae507e"
      },
      "execution_count": null,
      "outputs": [
        {
          "output_type": "stream",
          "name": "stdout",
          "text": [
            "t1 :  (99, 88)\n",
            "t2 :  (11, 22)\n"
          ]
        }
      ]
    },
    {
      "cell_type": "markdown",
      "source": [
        "5. Copy element 44 and 55 from the following tuple into a new tuple\n",
        "tuple1 = (11, 22, 33, 44, 55, 66)\n",
        "Expected output:\n",
        "tuple2: (44, 55)"
      ],
      "metadata": {
        "id": "XbHdLhCSNbNd"
      }
    },
    {
      "cell_type": "code",
      "source": [
        "tuple1 = (11, 22, 33, 44, 55, 66)\n",
        "tuple2=tuple1[-3:-1]\n",
        "print(tuple2)"
      ],
      "metadata": {
        "colab": {
          "base_uri": "https://localhost:8080/"
        },
        "id": "XOcIP_vtNbWs",
        "outputId": "03ae2fba-caff-4571-b314-e0bb5a1be6d7"
      },
      "execution_count": null,
      "outputs": [
        {
          "output_type": "stream",
          "name": "stdout",
          "text": [
            "(44, 55)\n"
          ]
        }
      ]
    },
    {
      "cell_type": "markdown",
      "source": [
        "6. Modify the first item (22) of a list inside a following tuple to 200\n",
        "tuple1 = (11, [22, 33], 44, 55)\n",
        "Expected output:\n",
        "tuple1: (11, [200, 33], 44, 55)"
      ],
      "metadata": {
        "id": "bHebSePJNxln"
      }
    },
    {
      "cell_type": "code",
      "source": [
        "tuple1 = (11, [22, 33], 44, 55)\n",
        "tuple1[1][0]=200\n",
        "print(tuple1)"
      ],
      "metadata": {
        "colab": {
          "base_uri": "https://localhost:8080/"
        },
        "id": "bkGJguY9NxtF",
        "outputId": "bde46037-a780-4c83-eee3-57570283d816"
      },
      "execution_count": null,
      "outputs": [
        {
          "output_type": "stream",
          "name": "stdout",
          "text": [
            "(11, [200, 33], 44, 55)\n"
          ]
        }
      ]
    },
    {
      "cell_type": "markdown",
      "source": [
        "7. Take two integer values in a & b. Swap their values using tuple, using temparary variable and without tuple and without temparary variable.\n",
        "Ex. a=10 b=23\n",
        "After swapping a=23 b=10\n"
      ],
      "metadata": {
        "id": "hfYDN_n2OfGo"
      }
    },
    {
      "cell_type": "code",
      "source": [
        "a=10\n",
        "b=23\n",
        "a,b=b,a\n",
        "print(a,b)\n",
        "\n",
        "temp=b\n",
        "b=a\n",
        "a=temp\n",
        "print (a,b)"
      ],
      "metadata": {
        "id": "FnDzbR7POfU2",
        "colab": {
          "base_uri": "https://localhost:8080/"
        },
        "outputId": "6946fd26-a572-4fbc-8fbc-a638591319cf"
      },
      "execution_count": null,
      "outputs": [
        {
          "output_type": "stream",
          "name": "stdout",
          "text": [
            "23 10\n",
            "10 23\n"
          ]
        }
      ]
    },
    {
      "cell_type": "markdown",
      "source": [
        "**Dictionary Assignments**"
      ],
      "metadata": {
        "id": "H-KKrFIUW2Of"
      }
    },
    {
      "cell_type": "markdown",
      "source": [
        "1. In cryptography, a Caesar cipher is a very simple encryption techniques in which each letter in the plain text is replaced by a letter some fixed number of positions down the alphabet. For example, with a shift of 3, A would be replaced by D, B would become E, and so on. The method is named after Julius Caesar, who used it to communicate with his generals. ROT-13 (\"rotate by 13 places\") is a widely used\n",
        "example of a Caesar cipher where the shift is 13. In Python, the key for ROT-13 may be represented by means of the following dictionary\n",
        "{'a':'n', 'b':'o', 'c':'p', 'd':'q', 'e':'r', 'f':'s', 'g':'t', 'h':'u', 'i':'v', 'j':'w', 'k':'x', 'l':'y', 'm':'z', 'n':'a', 'o':'b', 'p':'c',\n",
        "'q':'d', 'r':'e', 's':'f', 't':'g', 'u':'h', 'v':'i', 'w':'j', 'x':'k', 'y':'l', 'z':'m', 'A':'N', 'B':'O', 'C':'P', 'D':'Q', 'E':'R', 'F':'S', 'G':'T', 'H':'U', 'I':'V', 'J':'W', 'K':'X', 'L':'Y', 'M':'Z', 'N':'A', 'O':'B', 'P':'C', 'Q':'D', 'R':'E', 'S':'F', 'T':'G', 'U':'H', 'V':'I', 'W':'J', 'X':'K', 'Y':'L', 'Z':'M'}\n",
        "Your task in this exercise is to implement an encoder/decoder of ROT-13. Once you're done, you will be able to read the following secret message:\n",
        "Pnrfne pvcure? V zhpu cersre Pnrfne fnynq!\n",
        "Note that since English has 26 characters, your ROT-13 program will be able to both encode and decode texts written in English.\n"
      ],
      "metadata": {
        "id": "AvMyFj-pXAzd"
      }
    },
    {
      "cell_type": "code",
      "source": [
        "d={'a':'n', 'b':'o', 'c':'p', 'd':'q', 'e':'r', 'f':'s', 'g':'t', 'h':'u', 'i':'v', 'j':'w', 'k':'x', 'l':'y', 'm':'z', 'n':'a', 'o':'b', 'p':'c', 'q':'d', 'r':'e', 's':'f', 't':'g', 'u':'h', 'v':'i', 'w':'j', 'x':'k', 'y':'l', 'z':'m', 'A':'N', 'B':'O', 'C':'P', 'D':'Q', 'E':'R', 'F':'S', 'G':'T', 'H':'U', 'I':'V', 'J':'W', 'K':'X', 'L':'Y', 'M':'Z', 'N':'A', 'O':'B', 'P':'C', 'Q':'D', 'R':'E', 'S':'F', 'T':'G', 'U':'H', 'V':'I', 'W':'J', 'X':'K', 'Y':'L', 'Z':'M'}\n",
        "str1=\"Pnrfne pvcure? V zhpu cersre Pnrfne fnynq!\"\n",
        "for i in str1:\n",
        "  if i==\" \" or i==\"?\" or i==\"!\":\n",
        "    print(i,end=\"\")\n",
        "  else:\n",
        "    print(d[i],end=\"\")\n",
        "print()\n",
        "\n",
        "\n",
        "#list comprehension\n",
        "l1=[ele if ele==\" \" or ele==\"?\" or ele==\"!\"   else d[ele]  for ele in str1  ]\n",
        "s=\"\".join(l1)\n",
        "print(s)\n",
        "\n",
        "#other method\n",
        "new_mess=\"\"\n",
        "for chr in str1:\n",
        "\n",
        "  if chr.isalpha():\n",
        "    new_char = d[chr]\n",
        "    new_mess = new_mess+new_char\n",
        "  else:\n",
        "    new_mess=new_mess+chr\n",
        "print(new_mess)\n"
      ],
      "metadata": {
        "colab": {
          "base_uri": "https://localhost:8080/"
        },
        "id": "wP5MzjHuXBRV",
        "outputId": "74b2b00b-35e8-4412-b419-82303e043d48"
      },
      "execution_count": null,
      "outputs": [
        {
          "output_type": "stream",
          "name": "stdout",
          "text": [
            "Caesar cipher? I much prefer Caesar salad!\n",
            "Caesar cipher? I much prefer Caesar salad!\n",
            "Caesar cipher? I much prefer Caesar salad!\n"
          ]
        }
      ]
    },
    {
      "cell_type": "markdown",
      "source": [
        "2.Given a dictionary of students and their favourite colours:\n",
        "\n",
        "people={'Arham':'Blue','Lisa':'Yellow',''Vinod:'Purple','Jenny':'Pink'}\n",
        "\n",
        "a. Find out how many students are in the list\n",
        "b. Change Lisa’s favourite colour\n",
        "c. Remove 'Jenny' and her favourite colour\n"
      ],
      "metadata": {
        "id": "Fm2XkAo2do5o"
      }
    },
    {
      "cell_type": "code",
      "source": [
        "people={'Arham':'Blue','Lisa':'Yellow','Vinod':'Purple','Jenny':'Pink'}\n",
        "\n",
        "c=people.keys()\n",
        "print(\"students are in the list : \",len(c))\n",
        "people.update(Lisa=\"red\")\n",
        "print(people)\n",
        "people.pop('Jenny')\n",
        "print(people)\n"
      ],
      "metadata": {
        "colab": {
          "base_uri": "https://localhost:8080/"
        },
        "id": "LGIjONrdcvFN",
        "outputId": "1d1fb96c-7cd2-4efd-ba62-c547cf268a57"
      },
      "execution_count": null,
      "outputs": [
        {
          "output_type": "stream",
          "name": "stdout",
          "text": [
            "students are in the list :  4\n",
            "{'Arham': 'Blue', 'Lisa': 'red', 'Vinod': 'Purple', 'Jenny': 'Pink'}\n",
            "{'Arham': 'Blue', 'Lisa': 'red', 'Vinod': 'Purple'}\n"
          ]
        }
      ]
    },
    {
      "cell_type": "markdown",
      "source": [
        "3. Write a menu driven program to practice Dictionary functions.\n",
        "Write a program to accept name of a person and their vehicle and store it in a dictionary.\n",
        "\n",
        "Ask user if they want to continue to accept multiple values.\n",
        "Display following menu:\n",
        "\n",
        "a. Add new person name and a vehicle name.\n",
        "b. Delete a person name and vehicle name from the dictionary.\n",
        "\n",
        "----Accept person name from user.\n",
        "\n",
        "----Check whether person name exists in the dictionary.\n",
        "\n",
        "----If exists show person name and vehicle name to the user.\n",
        "\n",
        "----Confirm for deletion,\n",
        " if user enters y then delete otherwise no. Display appropriate message.\n",
        "\n",
        "c. Modify vehicle name for the person\n",
        "\n",
        "----Accept a person name from user.\n",
        "\n",
        "----Check whether the person’s name exists.\n",
        "\n",
        "----If the name exists, show the person’s name and vehicle name to user.\n",
        "\n",
        "Ask for new value and then overwrite the old value.\n",
        "d. Search vehicle for the given person’s name.\n",
        "\n",
        "e. Search list of people, who have given a vehicle\n",
        "\n",
        "f. Display all person names.\n",
        "g. Display all vehicle names.\n",
        "h. Exit"
      ],
      "metadata": {
        "id": "zsdygZBeLuNp"
      }
    },
    {
      "cell_type": "code",
      "source": [
        "d={}\n",
        "print(\"\"\"1). Add new person name and a vehicle name.\n",
        "    2). Delete a person name and vehicle name from the dictionary.\n",
        "    3). Modify vehicle name for the person\n",
        "    4). Search vehicle for the given person’s name.\n",
        "    5). Search list of people who has given a vehicle\n",
        "    6). Display all person names\n",
        "    7). Display all\n",
        "    0). Exit\"\"\")\n",
        "while True:\n",
        "  choice=int(input('Enter a number '))\n",
        "  match choice:\n",
        "    case 0:\n",
        "      break;\n",
        "    case 1:\n",
        "      pname=input('Enter Name')\n",
        "      vname=input('Enter vechicle Name')\n",
        "      d[pname]=vname\n",
        "      if vname==\"\":\n",
        "        d[pname]=None\n",
        "    case 2:\n",
        "      name=input('Enter Name')\n",
        "      if name in d:\n",
        "        confirm=input(\"Enter Y to confirm delete action otherwise N\")\n",
        "      if  confirm=='Y' or confirm=='f':\n",
        "        d.pop(name)\n",
        "      else:\n",
        "        print(\"You confirmed not to delete user\")\n",
        "    case 3:\n",
        "      name=input('Enter Name')\n",
        "      if name in d:\n",
        "        print(name,d[name])\n",
        "        vehicle=input(\"Enter new vehicle name\")\n",
        "        d[name]=vehicle\n",
        "    case 4:\n",
        "      name=input('Enter Name')\n",
        "      print(name,d[name])\n",
        "    case 5:\n",
        "      l1=[]\n",
        "      for key in d:\n",
        "        if d[key]==None:\n",
        "          a=1\n",
        "        else:\n",
        "          print(key)\n",
        "          l1.append(key)\n",
        "      print(l1)\n",
        "    case 6:\n",
        "      print(list(d))\n",
        "      #otherway\n",
        "      print(list(d.keys()))\n",
        "    case 7:\n",
        "      print(list(d.values()))\n",
        "\n",
        "\n",
        "print (d)\n"
      ],
      "metadata": {
        "colab": {
          "base_uri": "https://localhost:8080/"
        },
        "id": "t68g5xI2Ltbj",
        "outputId": "3c977716-373f-4c25-be01-b357d543dde4"
      },
      "execution_count": 11,
      "outputs": [
        {
          "output_type": "stream",
          "name": "stdout",
          "text": [
            "1). Add new person name and a vehicle name.\n",
            "    2). Delete a person name and vehicle name from the dictionary.\n",
            "    3). Modify vehicle name for the person\n",
            "    4). Search vehicle for the given person’s name.\n",
            "    5). Search list of people who has given a vehicle\n",
            "    6). Display all person names\n",
            "    7). Display all\n",
            "    0). Exit\n",
            "Enter a number 1\n",
            "Enter NameAtharv\n",
            "Enter vechicle NameNano\n",
            "Enter a number 4\n",
            "Enter NameAtharv\n",
            "Atharv Nano\n",
            "Enter a number 3\n",
            "Enter NameAtharv\n",
            "Atharv Nano\n",
            "Enter new vehicle nameDzier\n",
            "Enter a number 1\n",
            "Enter NameSoham\n",
            "Enter vechicle NameTata Punch\n",
            "Enter a number 1\n",
            "Enter NameAditya\n",
            "Enter vechicle Name\n",
            "Enter a number 2\n",
            "Enter NameAditya\n",
            "Enter Y to confirm delete action otherwise NY\n",
            "Enter a number 6\n",
            "['Atharv', 'Soham']\n",
            "['Atharv', 'Soham']\n",
            "Enter a number 7\n",
            "['Dzier', 'Tata Punch']\n",
            "Enter a number 1\n",
            "Enter NameGanesh\n",
            "Enter vechicle Name\n",
            "Enter a number 5\n",
            "Atharv\n",
            "Soham\n",
            "['Atharv', 'Soham']\n",
            "Enter a number 0\n",
            "{'Atharv': 'Dzier', 'Soham': 'Tata Punch', 'Ganesh': None}\n"
          ]
        }
      ]
    },
    {
      "cell_type": "markdown",
      "source": [
        " Write a program to display following menu and do the following:\n",
        "\n",
        "a. Add new city and trees commonly found in the city.\n",
        "\n",
        "b. Display all cities and the list of trees for all cities.\n",
        "\n",
        "c. Display list of trees of a particular city.\n",
        "\n",
        " ---- Accept a city from user search city and if found display list of trees otherwise\n",
        "  \n",
        "---- Display message not found d. Display cities which have the given tree.\n",
        "\n",
        "---- Accept a tree name from user and display all cities in which the tree is found. e. Delete city\n",
        "\n",
        " ---- Accept city from user and delete the city if found.\n",
        "\n",
        "---- Prompt user before deletion\n",
        "\n",
        "f. Modify tree list\n",
        "\n",
        "---- Accept city and trees to be added in the city. if city exist add trees at the end of the list  \n",
        "---- Otherwise add city and list g. Exit"
      ],
      "metadata": {
        "id": "FOgRV_9itejz"
      }
    },
    {
      "cell_type": "code",
      "source": [
        "dist={}"
      ],
      "metadata": {
        "id": "d0l_k3aWvGyd"
      },
      "execution_count": 12,
      "outputs": []
    },
    {
      "cell_type": "code",
      "source": [
        "print(\"\"\"\n",
        "a. Add new city and trees commonly found in the city.\n",
        "b. Display all cities and the list of trees for all cities.\n",
        "c. Display list of trees of a particular city.\n",
        "d. Display cities which have the given tree.\n",
        "e. Delete city ---- Accept city from user and delete the city if found\n",
        "f. Modify tree list ---- Accept city and trees to be added in the city.\n",
        "g. Exit\"\"\")\n",
        "while True:\n",
        "    case1 = input()\n",
        "    match case1:\n",
        "        case 'a':\n",
        "            city= input(\"City Name:- \")\n",
        "            trees = input(\"Commonly Found tree name:- \")\n",
        "            trees.split(\" \")\n",
        "            dist[city]=trees\n",
        "        case 'b':\n",
        "            print(dist.items())\n",
        "        case 'c':\n",
        "            city= input(\"Enter City Name to get Tree name:- \")\n",
        "            print(dist.get(city))\n",
        "        case 'd':\n",
        "            trees= input(\"Enter Tree name:- \")\n",
        "            for k,v in dist.items():\n",
        "                      if  trees in v:\n",
        "                            print(\"City having given tree is \",k)\n",
        "        case 'e':\n",
        "            city= input(\"Enter City Name to Delete:- \")\n",
        "            if city in dist:\n",
        "                print(dist.pop(city))\n",
        "        case 'g':\n",
        "            break\n",
        "            print(\"Exited\")"
      ],
      "metadata": {
        "colab": {
          "base_uri": "https://localhost:8080/"
        },
        "id": "3qanUPsste0D",
        "outputId": "6072fc4d-07e9-4e65-ea0e-a17912cc162d"
      },
      "execution_count": 14,
      "outputs": [
        {
          "name": "stdout",
          "output_type": "stream",
          "text": [
            "\n",
            "a. Add new city and trees commonly found in the city.\n",
            "b. Display all cities and the list of trees for all cities.\n",
            "c. Display list of trees of a particular city.\n",
            "d. Display cities which have the given tree.\n",
            "e. Delete city ---- Accept city from user and delete the city if found\n",
            "f. Modify tree list ---- Accept city and trees to be added in the city.\n",
            "g. Exit\n",
            "a\n",
            "City Name:- Satara\n",
            "Commonly Found tree name:- Neem\n",
            "\n",
            "b\n",
            "dict_items([('Satara', 'Neem')])\n",
            "a\n",
            "City Name:- Nagpur\n",
            "Commonly Found tree name:- Oranges\n",
            "c\n",
            "Enter City Name to get Tree name:- Satara\n",
            "Neem\n",
            "d\n",
            "Enter Tree name:- Oranges\n",
            "City having given tree is  Nagpur\n",
            "e\n",
            "Enter City Name to Delete:- Nagpur\n",
            "Oranges\n",
            "f\n",
            "g\n"
          ]
        }
      ]
    }
  ]
}