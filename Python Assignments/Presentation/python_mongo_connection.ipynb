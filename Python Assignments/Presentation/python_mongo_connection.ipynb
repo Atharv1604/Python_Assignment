{
 "cells": [
  {
   "cell_type": "markdown",
   "id": "f0f072f5-b06c-437c-9363-36857c7f2935",
   "metadata": {},
   "source": [
    "# Using pymongo library "
   ]
  },
  {
   "cell_type": "code",
   "execution_count": 9,
   "id": "8ea71c19-ea68-4391-af7c-cc22530b92f8",
   "metadata": {},
   "outputs": [],
   "source": [
    "import pymongo"
   ]
  },
  {
   "cell_type": "markdown",
   "id": "a935855a-6d59-4de6-b4a9-d0f2e5bb2160",
   "metadata": {},
   "source": [
    "##  MongoClient class of pymongo library"
   ]
  },
  {
   "cell_type": "code",
   "execution_count": 10,
   "id": "74e2b731-3267-4754-83c0-54480fda5dbe",
   "metadata": {},
   "outputs": [],
   "source": [
    "client = pymongo.MongoClient(\"mongodb://localhost:27017/\")  # Replace with your MongoDB server URL if it's not running locally"
   ]
  },
  {
   "cell_type": "markdown",
   "id": "9297f8d8-d52a-47cf-b648-599eda444e7b",
   "metadata": {},
   "source": [
    "## List all Database on mongo server"
   ]
  },
  {
   "cell_type": "code",
   "execution_count": 11,
   "id": "10d5997c-c9e1-4888-9919-c9f006f724cb",
   "metadata": {},
   "outputs": [
    {
     "name": "stdout",
     "output_type": "stream",
     "text": [
      "admin\n",
      "config\n",
      "iacsd0923\n",
      "local\n"
     ]
    }
   ],
   "source": [
    "database_names = client.list_database_names()\n",
    "\n",
    "for name in database_names:\n",
    "    print(name)"
   ]
  },
  {
   "cell_type": "markdown",
   "id": "7a6f7a48-f523-47ec-92d3-08a6d51fd864",
   "metadata": {},
   "source": [
    "## Accessing Databse "
   ]
  },
  {
   "cell_type": "code",
   "execution_count": 12,
   "id": "03269d6e-cb95-4c2b-8570-ef03680bcacf",
   "metadata": {},
   "outputs": [],
   "source": [
    "db = client[\"iacsd0923\"]"
   ]
  },
  {
   "cell_type": "markdown",
   "id": "b9093597-a1b3-4bfa-b697-57bed5f9c7c5",
   "metadata": {},
   "source": [
    "## List all collections in database"
   ]
  },
  {
   "cell_type": "code",
   "execution_count": 8,
   "id": "b64e1b8e-08f9-433a-ba9d-7551a1061282",
   "metadata": {},
   "outputs": [
    {
     "name": "stdout",
     "output_type": "stream",
     "text": [
      "emp\n",
      "emp_details\n",
      "book\n",
      "demoemp\n",
      "movie\n",
      "restaurent\n"
     ]
    }
   ],
   "source": [
    "collection_names = db.list_collection_names()\n",
    "\n",
    "for name in collection_names:\n",
    "    print(name)"
   ]
  },
  {
   "cell_type": "markdown",
   "id": "205df38f-fc98-43ce-94ba-fefcdfb05970",
   "metadata": {},
   "source": [
    "## Creating Collection using --create_collection(\"your collection name\")-- method of the database object"
   ]
  },
  {
   "cell_type": "code",
   "execution_count": 21,
   "id": "6e1100ac-7110-4413-ba37-5a7da875cb95",
   "metadata": {},
   "outputs": [
    {
     "data": {
      "text/plain": [
       "Collection(Database(MongoClient(host=['localhost:27017'], document_class=dict, tz_aware=False, connect=True), 'iacsd0923'), 'emp_details')"
      ]
     },
     "execution_count": 21,
     "metadata": {},
     "output_type": "execute_result"
    }
   ],
   "source": [
    "collection_name = \"emp_details\"\n",
    "db.create_collection(collection_name)"
   ]
  },
  {
   "cell_type": "markdown",
   "id": "6ff3e6e3-43a7-4e9a-a404-5a5cffac34fb",
   "metadata": {},
   "source": [
    "## Accessing Collection from database"
   ]
  },
  {
   "cell_type": "code",
   "execution_count": 13,
   "id": "cedd013b-8156-4fb5-ba3e-04c987167cd4",
   "metadata": {},
   "outputs": [],
   "source": [
    "collection = db[\"emp_details\"]"
   ]
  },
  {
   "cell_type": "markdown",
   "id": "8dfcd790-8024-4fb6-8c04-c897a9087b14",
   "metadata": {},
   "source": [
    "## Inserting Data into collection"
   ]
  },
  {
   "cell_type": "code",
   "execution_count": 24,
   "id": "c09b654f-cd3d-4393-abe5-2ea1b750e57c",
   "metadata": {},
   "outputs": [],
   "source": [
    "data = {\"empno\": 512, \"ename\": \"Atharv Bajare\", \"sal\": 50000.00, \"dept\": {\"deptno\": 15, \"dname\": \"Data Engineer\", \"dloc\": \"Pune\"}, \"Desg\": \"Data Engineer\", \"mgr\": {\"name\": \"Soham\", \"num\": 123}, \"project\": [{\"name\": \"Project-8\", \"Hrs\": 8}]}"
   ]
  },
  {
   "cell_type": "code",
   "execution_count": 25,
   "id": "08c6c313-48b2-4123-aeb3-bd3fe34d7740",
   "metadata": {},
   "outputs": [],
   "source": [
    "data2 = {\"empno\": 510, \"ename\": \"Arnavi Nimbalkar\", \"sal\": 50000.00, \"dept\": {\"deptno\": 18, \"dname\": \"Analyst\", \"dloc\": \"Pune\"}, \"Desg\": \"Data Analyst\", \"mgr\": {\"name\": \"Rishabh\", \"num\": 123}, \"project\": [{\"name\": \"Project-10\", \"Hrs\": 8}]}\n",
    "data3 = {\"empno\": 511, \"ename\": \"Ashlesh Chinchkhede\", \"sal\": 70000.00, \"dept\": {\"deptno\": 20, \"dname\": \"DEVops\", \"dloc\": \"Pune\"}, \"Desg\": \"Cloud Engineer\", \"mgr\": {\"name\": \"Shivam\", \"num\": 124}, \"project\": [{\"name\": \"Project-12\", \"Hrs\": 8}]}\n",
    "data4 = {\"empno\": 509, \"ename\": \"Anuja Chavan\", \"sal\": 80000.00, \"dept\": {\"deptno\": 15, \"dname\": \"Data Engineer\", \"dloc\": \"Pune\"}, \"Desg\": \"Data Engineer\", \"mgr\": {\"name\": \"Ganesh\", \"num\": 125}, \"project\": [{\"name\": \"Project-8\", \"Hrs\": 8}]}\n",
    "data5 = {\"empno\": 520, \"ename\": \"Ankit\", \"sal\": 50000.00, \"dept\": {\"deptno\": 22, \"dname\": \"DEVOP\", \"dloc\": \"Magarpatta\"}, \"Desg\": \"Data Analyst\", \"mgr\": {\"name\":\"Shreyash\", \"num\": 123}, \"project\": [{\"name\": \"Project-12\", \"Hrs\": 8}]}"
   ]
  },
  {
   "cell_type": "code",
   "execution_count": 14,
   "id": "96cf0157-ca44-49e5-9127-66a12f1caffb",
   "metadata": {},
   "outputs": [],
   "source": [
    "data6 = {\"empno\": 521, \"ename\": \"Ankit\", \"sal\": 50000.00, \"dept\": {\"deptno\": 22, \"dname\": \"DEVOP\", \"dloc\": \"Magarpatta\"}, \"Desg\": \"Data Analyst\", \"mgr\": {\"name\":\"Shreyash\", \"num\": 123}, \"project\": [{\"name\": \"Project-12\", \"Hrs\": 8}]}\n",
    "data7 = {\"empno\": 522, \"ename\": \"Ankit\", \"sal\": 50000.00, \"dept\": {\"deptno\": 22, \"dname\": \"DEVOP\", \"dloc\": \"Magarpatta\"}, \"Desg\": \"Data Analyst\", \"mgr\": {\"name\":\"Shreyash\", \"num\": 123}, \"project\": [{\"name\": \"Project-12\", \"Hrs\": 8}]}\n",
    "data8 = {\"empno\": 523, \"ename\": \"Ankit\", \"sal\": 50000.00, \"dept\": {\"deptno\": 22, \"dname\": \"DEVOP\", \"dloc\": \"Magarpatta\"}, \"Desg\": \"Data Analyst\", \"mgr\": {\"name\":\"Shreyash\", \"num\": 123}, \"project\": [{\"name\": \"Project-12\", \"Hrs\": 8}]}\n"
   ]
  },
  {
   "cell_type": "markdown",
   "id": "913e5d32-60d2-4d0b-bd91-52ab3f79df4e",
   "metadata": {},
   "source": [
    "## With \"\"collection\"\" object we can perform CRUD operation "
   ]
  },
  {
   "cell_type": "markdown",
   "id": "826b83b2-3f28-498b-b507-5d19f6ae3d6a",
   "metadata": {},
   "source": [
    "### insert_one() or insert_many()"
   ]
  },
  {
   "cell_type": "code",
   "execution_count": 26,
   "id": "c6a00f88-04ec-45b0-8b67-b764eae57ab7",
   "metadata": {},
   "outputs": [
    {
     "data": {
      "text/plain": [
       "<pymongo.results.InsertOneResult at 0x1b719e7f790>"
      ]
     },
     "execution_count": 26,
     "metadata": {},
     "output_type": "execute_result"
    }
   ],
   "source": [
    "collection.insert_one(data)"
   ]
  },
  {
   "cell_type": "code",
   "execution_count": 27,
   "id": "02cb5ba8-a367-43f2-93b5-6fdd451fb3a4",
   "metadata": {},
   "outputs": [
    {
     "data": {
      "text/plain": [
       "<pymongo.results.InsertManyResult at 0x1b719e34df0>"
      ]
     },
     "execution_count": 27,
     "metadata": {},
     "output_type": "execute_result"
    }
   ],
   "source": [
    "collection.insert_many([data2,data3,data4,data5])"
   ]
  },
  {
   "cell_type": "code",
   "execution_count": 15,
   "id": "3617e250-f629-483c-9702-e592ac80b94d",
   "metadata": {},
   "outputs": [
    {
     "data": {
      "text/plain": [
       "<pymongo.results.InsertManyResult at 0x28af4f57880>"
      ]
     },
     "execution_count": 15,
     "metadata": {},
     "output_type": "execute_result"
    }
   ],
   "source": [
    "collection.insert_many([data6,data7,data8])"
   ]
  },
  {
   "cell_type": "markdown",
   "id": "5ad256a2-2c24-4b3f-afdd-03afcb5d9c33",
   "metadata": {},
   "source": [
    "### collection.find({})  >> to read all the Documents inside collection "
   ]
  },
  {
   "cell_type": "code",
   "execution_count": 28,
   "id": "1c938d0a-3f45-439b-b6f3-1b023c9f7a35",
   "metadata": {},
   "outputs": [
    {
     "name": "stdout",
     "output_type": "stream",
     "text": [
      "{'_id': ObjectId('653422cfecb57c94c9f6d215'), 'empno': 512, 'ename': 'Atharv Bajare', 'sal': 50000.0, 'dept': {'deptno': 15, 'dname': 'Data Engineer', 'dloc': 'Pune'}, 'Desg': 'Data Engineer', 'mgr': {'name': 'Soham', 'num': 123}, 'project': [{'name': 'Project-8', 'Hrs': 8}]}\n",
      "{'_id': ObjectId('65342333ecb57c94c9f6d216'), 'empno': 510, 'ename': 'Arnavi Nimbalkar', 'sal': 50000.0, 'dept': {'deptno': 18, 'dname': 'Analyst', 'dloc': 'Pune'}, 'Desg': 'Data Analyst', 'mgr': {'name': 'Rishabh', 'num': 123}, 'project': [{'name': 'Project-10', 'Hrs': 8}]}\n",
      "{'_id': ObjectId('65342333ecb57c94c9f6d217'), 'empno': 511, 'ename': 'Ashlesh Chinchkhede', 'sal': 70000.0, 'dept': {'deptno': 20, 'dname': 'DEVops', 'dloc': 'Pune'}, 'Desg': 'Cloud Engineer', 'mgr': {'name': 'Shivam', 'num': 124}, 'project': [{'name': 'Project-12', 'Hrs': 8}]}\n",
      "{'_id': ObjectId('65342333ecb57c94c9f6d218'), 'empno': 509, 'ename': 'Anuja Chavan', 'sal': 80000.0, 'dept': {'deptno': 15, 'dname': 'Data Engineer', 'dloc': 'Pune'}, 'Desg': 'Data Engineer', 'mgr': {'name': 'Ganesh', 'num': 125}, 'project': [{'name': 'Project-8', 'Hrs': 8}]}\n",
      "{'_id': ObjectId('65342333ecb57c94c9f6d219'), 'empno': 520, 'ename': 'Ankit', 'sal': 50000.0, 'dept': {'deptno': 22, 'dname': 'DEVOP', 'dloc': 'Magarpatta'}, 'Desg': 'Data Analyst', 'mgr': {'name': 'Shreyash', 'num': 123}, 'project': [{'name': 'Project-12', 'Hrs': 8}]}\n"
     ]
    }
   ],
   "source": [
    "content = collection.find({})\n",
    "for document in content:\n",
    "    print(document)"
   ]
  },
  {
   "cell_type": "markdown",
   "id": "29cec87c-81c6-4f86-971c-a67437f62f8e",
   "metadata": {},
   "source": [
    "### adding filter to find specific values"
   ]
  },
  {
   "cell_type": "code",
   "execution_count": 29,
   "id": "2880e3b2-710b-4952-b02b-b7df66f01656",
   "metadata": {},
   "outputs": [
    {
     "name": "stdout",
     "output_type": "stream",
     "text": [
      "{'_id': ObjectId('653422cfecb57c94c9f6d215'), 'empno': 512, 'ename': 'Atharv Bajare', 'sal': 50000.0, 'dept': {'deptno': 15, 'dname': 'Data Engineer', 'dloc': 'Pune'}, 'Desg': 'Data Engineer', 'mgr': {'name': 'Soham', 'num': 123}, 'project': [{'name': 'Project-8', 'Hrs': 8}]}\n"
     ]
    }
   ],
   "source": [
    "filter = {\"ename\": \"Atharv Bajare\"}\n",
    "result = collection.find(filter)\n",
    "for document in result:\n",
    "    print(document)"
   ]
  },
  {
   "cell_type": "markdown",
   "id": "47fa3379-96bf-482f-b598-07bc2579669c",
   "metadata": {},
   "source": [
    "### collection.update_one(filter, update)  \n",
    "### >> updating value by applying filter to targetout specific value for updation "
   ]
  },
  {
   "cell_type": "code",
   "execution_count": 30,
   "id": "fa415cd6-c3a9-407b-b80a-86d0ac19e2b0",
   "metadata": {},
   "outputs": [
    {
     "data": {
      "text/plain": [
       "<pymongo.results.UpdateResult at 0x1b718bffdf0>"
      ]
     },
     "execution_count": 30,
     "metadata": {},
     "output_type": "execute_result"
    }
   ],
   "source": [
    "filter = {\"empno\": 520}\n",
    "update = {\"$set\": {\"sal\": 70000.00}}\n",
    "collection.update_one(filter, update)"
   ]
  },
  {
   "cell_type": "markdown",
   "id": "ed90ede5-3cb5-4a3e-ab6d-ee00a51d9f88",
   "metadata": {},
   "source": [
    "### collection.update_many(filter,update)\n",
    "### >> updating multiple values"
   ]
  },
  {
   "cell_type": "code",
   "execution_count": 31,
   "id": "daaf96ad-7477-4240-9a27-a2c16a742f6a",
   "metadata": {},
   "outputs": [
    {
     "data": {
      "text/plain": [
       "<pymongo.results.UpdateResult at 0x1b71a25e6b0>"
      ]
     },
     "execution_count": 31,
     "metadata": {},
     "output_type": "execute_result"
    }
   ],
   "source": [
    "filter ={'dept.dloc':'Pune'}\n",
    "update ={\"$mul\":{\"sal\":1.1}}\n",
    "collection.update_many(filter,update)"
   ]
  },
  {
   "cell_type": "markdown",
   "id": "e96722e8-c547-4fde-8889-b6925bb1e9f3",
   "metadata": {},
   "source": [
    "## collection.delete_one(**condition**)"
   ]
  },
  {
   "cell_type": "code",
   "execution_count": 32,
   "id": "08856887-baae-455e-ac85-993bf7bef073",
   "metadata": {},
   "outputs": [
    {
     "data": {
      "text/plain": [
       "<pymongo.results.DeleteResult at 0x1b71a25e800>"
      ]
     },
     "execution_count": 32,
     "metadata": {},
     "output_type": "execute_result"
    }
   ],
   "source": [
    "collection.delete_one({\"empno\": 520 })    # Deleting single value "
   ]
  },
  {
   "cell_type": "markdown",
   "id": "188a277d-513c-4835-bb0e-fa85ed5e055b",
   "metadata": {},
   "source": [
    "## collection.delete_many(**condition**)"
   ]
  },
  {
   "cell_type": "code",
   "execution_count": 16,
   "id": "0c495e65-cd52-445d-bf8a-9329663e1134",
   "metadata": {},
   "outputs": [
    {
     "name": "stdout",
     "output_type": "stream",
     "text": [
      "Number of documents deleted: {3}\n"
     ]
    }
   ],
   "source": [
    "filter = {'dept.dloc':'Magarpatta'}\n",
    "result = collection.delete_many(filter)\n",
    "deleted_count = result.deleted_count\n",
    "print(\"Number of documents deleted:\", str({deleted_count}))"
   ]
  }
 ],
 "metadata": {
  "kernelspec": {
   "display_name": "Python 3 (ipykernel)",
   "language": "python",
   "name": "python3"
  },
  "language_info": {
   "codemirror_mode": {
    "name": "ipython",
    "version": 3
   },
   "file_extension": ".py",
   "mimetype": "text/x-python",
   "name": "python",
   "nbconvert_exporter": "python",
   "pygments_lexer": "ipython3",
   "version": "3.12.0"
  }
 },
 "nbformat": 4,
 "nbformat_minor": 5
}
