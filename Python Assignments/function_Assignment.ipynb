{
  "nbformat": 4,
  "nbformat_minor": 0,
  "metadata": {
    "colab": {
      "provenance": []
    },
    "kernelspec": {
      "name": "python3",
      "display_name": "Python 3"
    },
    "language_info": {
      "name": "python"
    }
  },
  "cells": [
    {
      "cell_type": "markdown",
      "source": [
        "1. Write function which takes two parameters account no and name of the user.\n",
        "Check if the account number is valid. Account no is valid only if it is a 4 digit number less than 5000\n",
        "Check if the name is valid. Name is valid if all characters are alphabets and no numbers or special chars in the name\n",
        "If both name and 'acc no' are valid return True\n",
        "If acc no is invalid return a message string saying “Account no is invalid”\n",
        "if name is invalid return None\n"
      ],
      "metadata": {
        "id": "sO9ZPZJi5DWt"
      }
    },
    {
      "cell_type": "code",
      "execution_count": null,
      "metadata": {
        "colab": {
          "base_uri": "https://localhost:8080/",
          "height": 35
        },
        "id": "63_7Qvn72Gqv",
        "outputId": "0b685fec-4abd-4c0d-806a-d4a46a26fe44"
      },
      "outputs": [
        {
          "output_type": "execute_result",
          "data": {
            "text/plain": [
              "'Account no is invalid'"
            ],
            "application/vnd.google.colaboratory.intrinsic+json": {
              "type": "string"
            }
          },
          "metadata": {},
          "execution_count": 7
        }
      ],
      "source": [
        "def ac_name(acno,name):\n",
        "  '''Acc_No: number , name:string'''\n",
        "  if len(str(acno))==4 and acno<5000:\n",
        "    if name.isalpha():\n",
        "      #print('acc_no ',ac_no,'and name',name,'is valid')\n",
        "      return True\n",
        "    else:\n",
        "      return None\n",
        "  else:\n",
        "    return \"Account no is invalid\"\n",
        "ac_name(200,'Ganesh')\n"
      ]
    },
    {
      "cell_type": "markdown",
      "source": [
        "2 WA function to calculate total salary given that\n",
        "1. post      2. basic salary\n",
        "rules:\n",
        "post can be manager or employee\n",
        "total sal = basic + TA + HRA\n",
        "TA = 5000 for 'manager'\n",
        "and TA = 10,000 for 'employee'\n",
        "HRA = 20,000 for 'manager' and HRA = 12,000 for 'employee'\n",
        "\n",
        "return total salary based on two parameters\n",
        "\n",
        "\n"
      ],
      "metadata": {
        "id": "T7SAFH4O5ulB"
      }
    },
    {
      "cell_type": "code",
      "source": [
        "def total_sal(post,sal):\n",
        "  if post=='Manager':\n",
        "    TA=5000\n",
        "    HRA=20000\n",
        "    sal=sal+TA+HRA\n",
        "    return post+\" total salary: \"+str(sal)\n",
        "  elif post=='employee':\n",
        "    TA=10000\n",
        "    HRA=12000\n",
        "    sal=sal+TA+HRA\n",
        "    return post+\" total salary: \"+str(sal)\n",
        "  else:\n",
        "    return \"Enter correct post\"\n",
        "\n",
        "total_sal('Manager',100000)\n"
      ],
      "metadata": {
        "colab": {
          "base_uri": "https://localhost:8080/",
          "height": 35
        },
        "id": "Twh1Ylqk5u3x",
        "outputId": "f211b8ec-727a-4af2-b95d-13d129fa8f14"
      },
      "execution_count": null,
      "outputs": [
        {
          "output_type": "execute_result",
          "data": {
            "text/plain": [
              "'Manager total salary: 125000'"
            ],
            "application/vnd.google.colaboratory.intrinsic+json": {
              "type": "string"
            }
          },
          "metadata": {},
          "execution_count": 14
        }
      ]
    },
    {
      "cell_type": "markdown",
      "source": [
        "3.  WA function to rotate given string by 2 position to right\n",
        "\n",
        "Ex.\n",
        "s1=”IACSD”\n",
        "Rotate by 2 place to right\n",
        "“SDIAC”"
      ],
      "metadata": {
        "id": "prK-KD7I-Jif"
      }
    },
    {
      "cell_type": "code",
      "source": [
        "def pos3(s):\n",
        "  if len(s)<=2:\n",
        "    return 'ENTER STRING WITH MORE THAN 2 CHARATER'\n",
        "  else:\n",
        "    return s[-2:]+s[:-2]\n",
        "#pos3('sd')\n",
        "pos3('iacsd')"
      ],
      "metadata": {
        "colab": {
          "base_uri": "https://localhost:8080/",
          "height": 35
        },
        "id": "HQ7eSeIc-J1d",
        "outputId": "e8f6b6d3-31fe-4fee-a122-881dcb3e510c"
      },
      "execution_count": null,
      "outputs": [
        {
          "output_type": "execute_result",
          "data": {
            "text/plain": [
              "'sdiac'"
            ],
            "application/vnd.google.colaboratory.intrinsic+json": {
              "type": "string"
            }
          },
          "metadata": {},
          "execution_count": 21
        }
      ]
    },
    {
      "cell_type": "markdown",
      "source": [
        "4.  Generalize above function to rotate string to right by n"
      ],
      "metadata": {
        "id": "ynLeWYwTAeDy"
      }
    },
    {
      "cell_type": "code",
      "source": [
        "def pos4(s,n):\n",
        "      return s[-n:]+s[:-n]\n",
        "#pos3('sd')\n",
        "pos4('iacsd',3)"
      ],
      "metadata": {
        "colab": {
          "base_uri": "https://localhost:8080/",
          "height": 35
        },
        "id": "KniKhCarAeNZ",
        "outputId": "9460c176-1be6-4965-9155-5df1d2f992e9"
      },
      "execution_count": null,
      "outputs": [
        {
          "output_type": "execute_result",
          "data": {
            "text/plain": [
              "'csdia'"
            ],
            "application/vnd.google.colaboratory.intrinsic+json": {
              "type": "string"
            }
          },
          "metadata": {},
          "execution_count": 22
        }
      ]
    },
    {
      "cell_type": "markdown",
      "source": [
        "6. WAP to count number of passengers in every airline. Here we are given dictionary of passanger id and airline id\n",
        "\n",
        "\n",
        "Ex\n",
        "input_dir ={'p1':'a1','p2':'a10','p89':'a1','p5':'a10'}\n",
        "output: {'a1':2, 'a10':2}\n"
      ],
      "metadata": {
        "id": "T12m2wndBhsX"
      }
    },
    {
      "cell_type": "code",
      "source": [],
      "metadata": {
        "id": "iEA7xBoWBh8k"
      },
      "execution_count": null,
      "outputs": []
    },
    {
      "cell_type": "markdown",
      "source": [
        "7. given a list of strings.\n",
        "\n",
        "every string is in format \"Emp_name:Emp_id\"\n",
        "Emp_id is always a number\n",
        "\n",
        "if emp_id is amstrong number then rotate emp_name 1 place to the right --> and print the emp_name\n",
        "\n",
        "if emp_id is a prime no then print vowels from the employee name\n",
        "in other cases print consonents from the emp name\n",
        "Finally there should be print of every employee name as per given condition"
      ],
      "metadata": {
        "id": "KsGu_3g4FFO_"
      }
    },
    {
      "cell_type": "code",
      "source": [
        "import sympy\n",
        "\n",
        "def example7(l):\n",
        "  sum=0\n",
        "  for i in l :\n",
        "    l1=i.split(':')\n",
        "    #amstrong checker\n",
        "    n=len(l1[0])\n",
        "    l2=[int(x) for x in l1[0]]\n",
        "    str1=l1[1]\n",
        "    for j in l2:\n",
        "      sum=sum+(j**n)\n",
        "    if sum==int(l1[0]):\n",
        "      print(l1[0],\" is a amstrong number\")\n",
        "      print(str1[-1]+str1[:-1])\n",
        "    elif sympy.isprime(int(l1[0])):\n",
        "      l3=[x for  x in str1 if x in 'aeiou']\n",
        "      print(l3)\n",
        "    else:\n",
        "      l4=[]\n",
        "      l3=[x if x in 'aeiou' else l4.append(x) for  x in str1 ]\n",
        "      print(l4)\n",
        "list1=['153:Atharv','103:Ganesh','127:Aditya','144:Soham','121:Ajinkya']\n",
        "example7(list1)\n",
        "\n"
      ],
      "metadata": {
        "id": "dZHpgN_SGQMG",
        "colab": {
          "base_uri": "https://localhost:8080/"
        },
        "outputId": "b206e946-6a9e-44a2-dc79-42156338f400"
      },
      "execution_count": null,
      "outputs": [
        {
          "output_type": "stream",
          "name": "stdout",
          "text": [
            "153  is a amstrong number\n",
            "vAthar\n",
            "['a', 'e']\n",
            "['i', 'a']\n",
            "['S', 'h', 'm']\n",
            "['A', 'j', 'n', 'k', 'y']\n"
          ]
        }
      ]
    },
    {
      "cell_type": "markdown",
      "source": [
        "8. Write a function which takes all details of a person as input in sequence and prints details as follows\n",
        "\n",
        "(Hint: Think which type of parameter to be used for every option)\n",
        "\n",
        "*   Take name and Print it in Camel Case\n",
        "\n",
        "*   Take 10 digit Mobile No and print it appending +91\n",
        "*   Take location as optional value. If not given then print Indi\n",
        "\n",
        "\n",
        "*   Take Qualifications. Qualifications can be 1 or 2 or many.\n",
        "\n",
        "Print all the passed qualifications one by one. Default qualification is \"Human\""
      ],
      "metadata": {
        "id": "N1E9LmKOFnBb"
      }
    },
    {
      "cell_type": "code",
      "source": [
        "def person_details(name,mbno,location='INDIA',*args):\n",
        "  print(\"Name: \",name.title())\n",
        "  mb='+91'+str(mbno)\n",
        "  print(\"Mobile Number : \"+str(mb))\n",
        "  print(\"Location: \",location)\n",
        "  if not args:\n",
        "    print('Qualification: Human')\n",
        "  else:\n",
        "    for i in args:\n",
        "      print(\"Qualification: \"+i)\n",
        "name=input(\"Enter a Name\")\n",
        "mbno=int(input(\"Enter a Mobile number\"))\n",
        "loc=input(\"Enter location\")\n",
        "if loc=='':\n",
        "  person_details(name,mbno)\n",
        "else:\n",
        "  person_details(name,mbno,loc,'10th','12th','BE.Mech')"
      ],
      "metadata": {
        "id": "JAF8xkYwGRVg",
        "colab": {
          "base_uri": "https://localhost:8080/"
        },
        "outputId": "16f15313-f08a-4b1a-8fd8-17febbb33891"
      },
      "execution_count": null,
      "outputs": [
        {
          "output_type": "stream",
          "name": "stdout",
          "text": [
            "Enter a NameAtharv girish bajare\n",
            "Enter a Mobile number9970710756\n",
            "Enter location\n",
            "Name:  Atharv Girish Bajare\n",
            "Mobile Number : +919970710756\n",
            "Location:  INDIA\n",
            "Qualification: Human\n"
          ]
        }
      ]
    },
    {
      "cell_type": "code",
      "source": [
        "def person_details(name,mbno,location='INDIA',*args):\n",
        "  print(\"Name: \",name.title())\n",
        "  mb='+91'+str(mbno)\n",
        "  print(\"Mobile Number : \"+str(mb))\n",
        "  print(\"Location: \",location.title())\n",
        "  if not args:\n",
        "    print('Qualification: Human')\n",
        "  else:\n",
        "    for i in args:\n",
        "      print(\"Qualification: \"+i)\n",
        "name=input(\"Enter a Name : \")\n",
        "mbno=int(input(\"Enter a Mobile number : \"))\n",
        "loc=input(\"Enter location : \")\n",
        "if loc=='':\n",
        "  person_details(name,mbno)\n",
        "else:\n",
        "  person_details(name,mbno,loc,'10th','12th','BE.Mech')"
      ],
      "metadata": {
        "colab": {
          "base_uri": "https://localhost:8080/"
        },
        "id": "GXjF64mJNRJ_",
        "outputId": "25b58858-59e0-40ac-95da-a9e4964cd64d"
      },
      "execution_count": null,
      "outputs": [
        {
          "output_type": "stream",
          "name": "stdout",
          "text": [
            "Enter a Name : soham ulmale\n",
            "Enter a Mobile number : 9988776655\n",
            "Enter location : pune akurdi\n",
            "Name:  Soham Ulmale\n",
            "Mobile Number : +919988776655\n",
            "Location:  Pune Akurdi\n",
            "Qualification: 10th\n",
            "Qualification: 12th\n",
            "Qualification: BE.Mech\n"
          ]
        }
      ]
    },
    {
      "cell_type": "markdown",
      "source": [
        "9. Create a function \"cloth_details\" with three arguments, color, shape and size. All three are optional and can be passed in any sequence by the user."
      ],
      "metadata": {
        "id": "nGp5VW41F6Eh"
      }
    },
    {
      "cell_type": "code",
      "source": [
        "def cloth_details(*,color='Orange',shape='T-shirt',size='xl'):\n",
        "  print(color,shape,size)\n",
        "cloth_details(color='Black',size='L',shape='Shirt')"
      ],
      "metadata": {
        "id": "qLZ9fA8QGSuY",
        "colab": {
          "base_uri": "https://localhost:8080/"
        },
        "outputId": "ad8b20c4-1839-44ca-8d9f-aa4d38121f9d"
      },
      "execution_count": null,
      "outputs": [
        {
          "output_type": "stream",
          "name": "stdout",
          "text": [
            "Black Shirt L\n"
          ]
        }
      ]
    },
    {
      "cell_type": "markdown",
      "source": [
        "10. Create a calculator.py file\n",
        "Create add(), subtract(), multiply(), divide(), power(), log() functions\n",
        "\n",
        "Create a menu driven program to take values and operation as input from user and print result using these functions\n",
        "\n",
        "Take ONLY integer inputs from user. If its not an integer then give Error message -> \"WRONG Input: Please enter ONLY integer value\"\n",
        "\n",
        "Your program should not give \"ValueError\" while using int() function for any input from below, It should display YOUR error message\n",
        "Enter a number : 10\n",
        "Enter a number : 10.9\n",
        "Enter a number : ABC\n",
        "(Hint: Think about methods from string data type to check input as integer)"
      ],
      "metadata": {
        "id": "IBSOaIq_F8IJ"
      }
    },
    {
      "cell_type": "code",
      "source": [
        "def cal(num1,num2):\n",
        "    if (num1.isdigit()) and (num2.isdigit()):\n",
        "      num1=int(num1)\n",
        "      num2=int(num2)\n",
        "    else:\n",
        "      return(\"WRONG Input: Please enter ONLY integer value\")\n",
        "    print(\"Enter choice \\n 1.add \\n 2.subtract \\n 3.multiply \\n 4.divide \\n 5.power \\n 6.log\")\n",
        "    choice=input(\"Enter your choice\")\n",
        "    var1=choice1(num1,num2,choice)\n",
        "    return var1\n",
        "\n",
        "def choice1(a,b,c):\n",
        "  import math\n",
        "  match c:\n",
        "    case \"1\":\n",
        "      return a+b\n",
        "    case \"2\":\n",
        "      return a-b\n",
        "    case \"3\":\n",
        "      return a*b\n",
        "    case \"4\":\n",
        "      return a/b\n",
        "    case \"5\":\n",
        "      return a**b\n",
        "    case \"6\":\n",
        "      return math.log(a,b)\n",
        "    case _:\n",
        "      return \"Wrong choice entered\"\n",
        "number=input(\"Enter the number 1 :\")\n",
        "number2=input(\"Enter the number 2 :\")\n",
        "var=cal(number,number2)\n",
        "print(var)"
      ],
      "metadata": {
        "id": "GKA2BDm6GUdo",
        "colab": {
          "base_uri": "https://localhost:8080/"
        },
        "outputId": "d39a222c-d3f4-4f6a-9fd3-08e556556d42"
      },
      "execution_count": 1,
      "outputs": [
        {
          "output_type": "stream",
          "name": "stdout",
          "text": [
            "Enter the number 1 :102\n",
            "Enter the number 2 :12\n",
            "Enter choice \n",
            " 1.add \n",
            " 2.subtract \n",
            " 3.multiply \n",
            " 4.divide \n",
            " 5.power \n",
            " 6.log\n",
            "Enter your choice6\n",
            "1.8612259795267763\n"
          ]
        }
      ]
    },
    {
      "cell_type": "markdown",
      "source": [
        "11. Write a function which finds average of given arguments. Minimum it takes two parameters and maximum it can take any number of arguments.\n",
        "Finally it should return average of all arguments passed\n",
        "\n",
        "Ex. avg(10,12)  return value 11\n",
        "avg(3,4,5)  return value 4\n",
        "avg(1,2,3,4,5,6,7,8,9,10) return value 5.5\n",
        "Extra case\n",
        "avg(1,2,avg(4,5,6)) return value 2.667 (roughly 8/3)\n"
      ],
      "metadata": {
        "id": "MqvFxa95F-3p"
      }
    },
    {
      "cell_type": "code",
      "source": [
        "def avg1(*args):\n",
        "  avg=sum(args)/len(args)\n",
        "  return avg\n",
        "var=avg1(10,12)\n",
        "print(\"Average is : \",var)\n",
        "var=avg1(3,4,5)\n",
        "print(\"Average is : \",var)\n",
        "var=avg1(1,2,3,4,5,6,7,8,9,10)\n",
        "print(\"Average is : \",var)\n",
        "var=avg1(1,2,avg1(4,5,6))\n",
        "print(\"Average is : \",var)"
      ],
      "metadata": {
        "id": "yM8YTRetGVU4",
        "colab": {
          "base_uri": "https://localhost:8080/"
        },
        "outputId": "09401581-3471-4a4f-fcf8-7aeab4a9fa9f"
      },
      "execution_count": 5,
      "outputs": [
        {
          "output_type": "stream",
          "name": "stdout",
          "text": [
            "Average is :  11.0\n",
            "Average is :  4.0\n",
            "Average is :  5.5\n",
            "Average is :  2.6666666666666665\n"
          ]
        }
      ]
    }
  ]
}